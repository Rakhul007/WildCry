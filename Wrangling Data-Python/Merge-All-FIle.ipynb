{
 "cells": [
  {
   "cell_type": "markdown",
   "metadata": {},
   "source": [
    "Author: Ishika Wikramanayake\n",
    "\n",
    "Start_Date: 26-Aug-2019\n",
    "\n",
    "End_Date: 30-Aug-2019"
   ]
  },
  {
   "cell_type": "markdown",
   "metadata": {},
   "source": [
    "### Import libraries"
   ]
  },
  {
   "cell_type": "code",
   "execution_count": 1,
   "metadata": {},
   "outputs": [],
   "source": [
    "import pandas as pd\n",
    "import folium"
   ]
  },
  {
   "cell_type": "markdown",
   "metadata": {},
   "source": [
    "### Merge all files"
   ]
  },
  {
   "cell_type": "code",
   "execution_count": 2,
   "metadata": {},
   "outputs": [],
   "source": [
    "Mammals = pd.read_csv(\"./MAMMALS.csv\")\n",
    "Amphibians = pd.read_csv(\"./AMPHIBIANS.csv\")\n",
    "Reptiles = pd.read_csv(\"./REPTILES.csv\")\n",
    "animals = pd.concat([Mammals, Amphibians])\n",
    "animals = pd.concat([animals, Reptiles])"
   ]
  },
  {
   "cell_type": "code",
   "execution_count": 3,
   "metadata": {},
   "outputs": [],
   "source": [
    "# Sort first by rate and then by frequency for 2019\n",
    "\n",
    "animals = animals.sort_values(by=['Rate_1968', 'freq'], ascending=True)\n",
    "animals.reset_index(drop=True)\n",
    "animals['No'] = 0\n"
   ]
  },
  {
   "cell_type": "code",
   "execution_count": 4,
   "metadata": {},
   "outputs": [],
   "source": [
    "# Add the ranking \n",
    "\n",
    "count = 1\n",
    "i = 1\n",
    "for index, row in animals.iterrows():\n",
    "    species = row['Vernacular name - original']\n",
    "    no = row['No']\n",
    "    freq = row['freq']\n",
    "    \n",
    "    if i <= freq:\n",
    "        animals.loc[animals['Vernacular name - original'] == species, 'No'] = count\n",
    "        i += 1\n",
    "    if i > freq:\n",
    "        i = 1\n",
    "        count += 1\n"
   ]
  },
  {
   "cell_type": "code",
   "execution_count": null,
   "metadata": {},
   "outputs": [],
   "source": [
    "# Save the file\n",
    "\n",
    "animals.to_csv('ANIMALS.csv', sep=',', encoding='utf-8', index = False)"
   ]
  }
 ],
 "metadata": {
  "kernelspec": {
   "display_name": "Python 3",
   "language": "python",
   "name": "python3"
  },
  "language_info": {
   "codemirror_mode": {
    "name": "ipython",
    "version": 3
   },
   "file_extension": ".py",
   "mimetype": "text/x-python",
   "name": "python",
   "nbconvert_exporter": "python",
   "pygments_lexer": "ipython3",
   "version": "3.6.4"
  }
 },
 "nbformat": 4,
 "nbformat_minor": 2
}
